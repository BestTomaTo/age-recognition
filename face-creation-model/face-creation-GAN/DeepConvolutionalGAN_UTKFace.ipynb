{
  "nbformat": 4,
  "nbformat_minor": 0,
  "metadata": {
    "colab": {
      "provenance": []
    },
    "kernelspec": {
      "name": "python3",
      "display_name": "Python 3"
    },
    "language_info": {
      "name": "python"
    },
    "accelerator": "GPU",
    "gpuClass": "standard"
  },
  "cells": [
    {
      "cell_type": "markdown",
      "source": [
        "**DCGAN code for UTKFace Generation**\n",
        "\n",
        "Using MNIST Tutorial code, GAN code with UTKFace data preprocessing\n",
        "\n",
        "We added Conv2d layer in both D(z) and G(z) to get spatial infomation of image data.\n",
        "\n",
        "https://github.com/yunjey/pytorch-tutorial"
      ],
      "metadata": {
        "id": "XQIPFOzbDKnA"
      }
    },
    {
      "cell_type": "code",
      "execution_count": null,
      "metadata": {
        "id": "TbAdw4NXsS9p"
      },
      "outputs": [],
      "source": [
        "import os\n",
        "import torch\n",
        "import torchvision\n",
        "import torch.nn as nn\n",
        "from torchvision import transforms\n",
        "from torchvision.utils import save_image\n"
      ]
    },
    {
      "cell_type": "code",
      "source": [
        "# Device configuration\n",
        "device = torch.device('cuda' if torch.cuda.is_available() else 'cpu')\n",
        "\n",
        "# Hyper-parameters\n",
        "latent_size = 64\n",
        "hidden_size = 256\n",
        "image_size = 64 * 64 * 3\n",
        "num_epochs = 20\n",
        "batch_size = 100\n",
        "sample_dir = 'samples'"
      ],
      "metadata": {
        "id": "c4tauaP_swFs"
      },
      "execution_count": null,
      "outputs": []
    },
    {
      "cell_type": "code",
      "source": [
        "# Create a directory if not exists\n",
        "if not os.path.exists(sample_dir):\n",
        "    os.makedirs(sample_dir)\n",
        "\n",
        "# Image processing\n",
        "transform = transforms.Compose([\n",
        "                transforms.Resize((64, 64)),\n",
        "                transforms.ToTensor(),\n",
        "                transforms.Normalize(mean=(0.5, 0.5, 0.5),   # 3 for RGB channels\n",
        "                                     std=(0.5, 0.5, 0.5))])\n",
        "# transform = transforms.Compose([\n",
        "#                 transforms.ToTensor(),\n",
        "#                 transforms.Normalize(mean=[0.5],   # 1 for greyscale channels\n",
        "#                                      std=[0.5])])\n"
      ],
      "metadata": {
        "id": "AtK4pb9dtR5J"
      },
      "execution_count": null,
      "outputs": []
    },
    {
      "cell_type": "code",
      "source": [
        "# utkface dataset\n",
        "\n",
        "import kagglehub\n",
        "download_path = kagglehub.dataset_download(\"jangedoo/utkface-new\")\n",
        "path = download_path + \"/UTKFace\""
      ],
      "metadata": {
        "id": "_59tdpzHWhwh"
      },
      "execution_count": null,
      "outputs": []
    },
    {
      "cell_type": "code",
      "source": [
        "from torch.utils.data import Dataset, DataLoader\n",
        "from PIL import Image\n",
        "\n",
        "# utkface custom dataset class\n",
        "class UTKFaceDataset(Dataset):\n",
        "  def __init__(self, data_dir, transform=None):\n",
        "    self.data_dir = data_dir\n",
        "    self.transform = transform\n",
        "    self.image_files = []\n",
        "    self.labels = []\n",
        "\n",
        "    for img_file in os.listdir(data_dir):\n",
        "      if (img_file.endswith('.jpg')):\n",
        "        self.image_files.append(img_file)\n",
        "        try:\n",
        "          age = int(img_file.split('_')[0])\n",
        "          # gender = int(img_file.split('_')[1])\n",
        "          # race = int(img_file.split('_')[2])\n",
        "          self.labels.append(age)\n",
        "        except:\n",
        "          print(f\"file skipped with error : {img_file}\")\n",
        "    # print(self.labels)\n",
        "\n",
        "  def __len__(self):\n",
        "    return len(self.image_files)\n",
        "\n",
        "  def __getitem__(self, idx):\n",
        "    img_path = os.path.join(self.data_dir, self.image_files[idx])\n",
        "    image = Image.open(img_path).convert('RGB')\n",
        "    label = self.labels[idx]\n",
        "\n",
        "    if self.transform:\n",
        "      image = self.transform(image)\n",
        "    return image, label\n",
        "\n",
        "utkface_dataset = UTKFaceDataset(data_dir = path, transform=transform)\n",
        "\n",
        "utkface_dataloader = DataLoader(dataset=utkface_dataset, batch_size = batch_size, shuffle=True)"
      ],
      "metadata": {
        "id": "cNV4qDM-YWme",
        "collapsed": true
      },
      "execution_count": null,
      "outputs": []
    },
    {
      "cell_type": "code",
      "source": [
        "# DCGAN - UTKFace\n",
        "# Discriminator\n",
        "D = nn.Sequential(\n",
        "    nn.Conv2d(3, 64, 4, 2, 1),  # (64, 32, 32)\n",
        "    nn.LeakyReLU(0.2, inplace=True),\n",
        "\n",
        "    nn.Conv2d(64, 128, 4, 2, 1),  # (128, 16, 16)\n",
        "    nn.BatchNorm2d(128),\n",
        "    nn.LeakyReLU(0.2, inplace=True),\n",
        "\n",
        "    nn.Conv2d(128, 256, 4, 2, 1),  # (256, 8, 8)\n",
        "    nn.BatchNorm2d(256),\n",
        "    nn.LeakyReLU(0.2, inplace=True),\n",
        "\n",
        "    nn.Conv2d(256, 512, 4, 2, 1),  # (512, 4, 4)\n",
        "    nn.BatchNorm2d(512),\n",
        "    nn.LeakyReLU(0.2, inplace=True),\n",
        "\n",
        "    nn.Conv2d(512, 1, 4, 1, 0),  # (1, 1, 1)\n",
        "    nn.Sigmoid())\n",
        "\n",
        "# Generator\n",
        "G = nn.Sequential(\n",
        "    nn.ConvTranspose2d(latent_size, 512, 4, 1, 0),  # (512, 4, 4)\n",
        "    nn.BatchNorm2d(512),\n",
        "    nn.ReLU(True),\n",
        "\n",
        "    nn.ConvTranspose2d(512, 256, 4, 2, 1),  # (256, 8, 8)\n",
        "    nn.BatchNorm2d(256),\n",
        "    nn.ReLU(True),\n",
        "\n",
        "    nn.ConvTranspose2d(256, 128, 4, 2, 1),  # (128, 16, 16)\n",
        "    nn.BatchNorm2d(128),\n",
        "    nn.ReLU(True),\n",
        "\n",
        "    nn.ConvTranspose2d(128, 64, 4, 2, 1),  # (64, 32, 32)\n",
        "    nn.BatchNorm2d(64),\n",
        "    nn.ReLU(True),\n",
        "\n",
        "    nn.ConvTranspose2d(64, 3, 4, 2, 1),  # (1, 64, 64)\n",
        "    nn.Tanh())\n",
        "\n",
        "\n",
        "# Device setting\n",
        "D = D.to(device)\n",
        "G = G.to(device)"
      ],
      "metadata": {
        "id": "vtQBHXACtdfW"
      },
      "execution_count": null,
      "outputs": []
    },
    {
      "cell_type": "code",
      "source": [
        "criterion = nn.BCELoss()\n",
        "d_optimizer = torch.optim.Adam(D.parameters(), lr=0.0002)\n",
        "g_optimizer = torch.optim.Adam(G.parameters(), lr=0.0002)\n",
        "\n",
        "\n",
        "def denorm(x):\n",
        "    out = (x + 1) / 2\n",
        "    return out.clamp(0, 1)\n",
        "\n",
        "def reset_grad():\n",
        "    d_optimizer.zero_grad()\n",
        "    g_optimizer.zero_grad()\n",
        "\n"
      ],
      "metadata": {
        "id": "BIF2YwXMtmp7"
      },
      "execution_count": null,
      "outputs": []
    },
    {
      "cell_type": "code",
      "source": [
        "# Start training\n",
        "total_step = len(utkface_dataloader)\n",
        "for epoch in range(num_epochs):\n",
        "    for i, (images, _) in enumerate(utkface_dataloader):\n",
        "        current_batch_size = images.size(0)\n",
        "        images = images.to(device)\n",
        "\n",
        "        # Create the labels which are later used as input for the BCE loss\n",
        "        real_labels = torch.ones(current_batch_size, 1).to(device)\n",
        "        fake_labels = torch.zeros(current_batch_size, 1).to(device)\n",
        "\n",
        "        # ================================================================== #\n",
        "        #                      Train the discriminator                       #\n",
        "        # ================================================================== #\n",
        "\n",
        "        # Compute BCE_Loss using real images where BCE_Loss(x, y): - y * log(D(x)) - (1-y) * log(1 - D(x))\n",
        "        # Second term of the loss is always zero since real_labels == 1\n",
        "        outputs = D(images).squeeze()\n",
        "        d_loss_real = criterion(outputs, real_labels)\n",
        "        real_score = outputs\n",
        "\n",
        "        # Compute BCELoss using fake images\n",
        "        # First term of the loss is always zero since fake_labels == 0\n",
        "        z = torch.randn(current_batch_size, latent_size).to(device)\n",
        "        fake_images = G(z)\n",
        "        outputs = D(fake_images).squeeze()\n",
        "        d_loss_fake = criterion(outputs, fake_labels)\n",
        "        fake_score = outputs\n",
        "\n",
        "        # Backprop and optimize\n",
        "        d_loss = d_loss_real + d_loss_fake\n",
        "        reset_grad()\n",
        "        d_loss.backward()\n",
        "        d_optimizer.step()\n",
        "\n",
        "        # ================================================================== #\n",
        "        #                        Train the generator                         #\n",
        "        # ================================================================== #\n",
        "\n",
        "        # Compute loss with fake images\n",
        "        z = torch.randn(current_batch_size, latent_size).to(device)\n",
        "        fake_images = G(z)\n",
        "        outputs = D(fake_images).squeeze()\n",
        "\n",
        "        # We train G to maximize log(D(G(z)) instead of minimizing log(1-D(G(z)))\n",
        "        # For the reason, see the last paragraph of section 3. https://arxiv.org/pdf/1406.2661.pdf\n",
        "        g_loss = criterion(outputs, real_labels)\n",
        "\n",
        "        # Backprop and optimize\n",
        "        reset_grad()\n",
        "        g_loss.backward()\n",
        "        g_optimizer.step()\n",
        "\n",
        "        if (i+1) % 200 == 0:\n",
        "            print('Epoch [{}/{}], Step [{}/{}], d_loss: {:.4f}, g_loss: {:.4f}, D(x): {:.2f}, D(G(z)): {:.2f}'\n",
        "                  .format(epoch, num_epochs, i+1, total_step, d_loss.item(), g_loss.item(),\n",
        "                          real_score.mean().item(), fake_score.mean().item()))\n",
        "\n",
        "    # Save real images\n",
        "    if (epoch+1) == 1:\n",
        "        images = images.reshape(images.size(0), 3, 64, 64)\n",
        "        save_image(denorm(images), os.path.join(sample_dir, 'real_images.png'))\n",
        "\n",
        "    # Save sampled images\n",
        "    fake_images = fake_images.reshape(fake_images.size(0), 3, 64, 64)\n",
        "    save_image(denorm(fake_images), os.path.join(sample_dir, 'fake_images-{}.png'.format(epoch+1)))\n"
      ],
      "metadata": {
        "id": "8viKTM1Btp4Z"
      },
      "execution_count": null,
      "outputs": []
    },
    {
      "cell_type": "code",
      "source": [
        "# Display generated images\n",
        "import matplotlib.pyplot as plt\n",
        "\n",
        "print('Generated Images')\n",
        "plt.figure(figsize=(9, 9)) # Increase figure size for a 3x3 grid\n",
        "\n",
        "# Generate and display 9 images (3 rows x 3 columns)\n",
        "for k in range(9):\n",
        "    plt.subplot(3, 3, k + 1)\n",
        "\n",
        "    # create random noize vector with size(1, latent_size)\n",
        "    z = torch.randn(1, latent_size).to(device)\n",
        "    gen_img = G(z).detach().cpu() # give noise vector to generator and create fake image\n",
        "\n",
        "    gen_img = gen_img.reshape(3, 64, 64) # reshaping flatten to image tensor\n",
        "    gen_img = denorm(gen_img) # denormalize\n",
        "\n",
        "    gen_img = gen_img.permute(1, 2, 0)\n",
        "\n",
        "    plt.imshow(gen_img.numpy())\n",
        "    plt.axis('off')\n",
        "\n",
        "plt.tight_layout()\n",
        "plt.show()"
      ],
      "metadata": {
        "id": "hsDnWDnZFmrz"
      },
      "execution_count": null,
      "outputs": []
    }
  ]
}